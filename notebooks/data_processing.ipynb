{
 "cells": [
  {
   "cell_type": "markdown",
   "metadata": {
    "id": "zrIA8pt_vVkC"
   },
   "source": [
    "# Analisis de emociones con la api de openai"
   ]
  },
  {
   "cell_type": "code",
   "execution_count": null,
   "metadata": {
    "colab": {
     "base_uri": "https://localhost:8080/"
    },
    "executionInfo": {
     "elapsed": 13569,
     "status": "ok",
     "timestamp": 1739142996008,
     "user": {
      "displayName": "Jose Alarcon",
      "userId": "10549546226426090412"
     },
     "user_tz": 300
    },
    "id": "MWdZFCtxQOp5",
    "outputId": "1c9eb5a0-26e3-43ea-b51e-32336982a5f0"
   },
   "outputs": [
    {
     "name": "stderr",
     "output_type": "stream",
     "text": [
      "[nltk_data] Downloading package stopwords to C:\\Users\\Jose\n",
      "[nltk_data]     Alarcon\\AppData\\Roaming\\nltk_data...\n",
      "[nltk_data]   Package stopwords is already up-to-date!\n"
     ]
    }
   ],
   "source": [
    "# Importación de librerías y configuración general\n",
    "import os\n",
    "import re\n",
    "import datetime\n",
    "import pandas as pd\n",
    "import spacy\n",
    "import regex\n",
    "import json\n",
    "from bs4 import BeautifulSoup\n",
    "import openai\n",
    "import nltk\n",
    "from nltk.corpus import stopwords\n",
    "\n",
    "# Descargar stopwords de NLTK (si no las tienes ya en tu entorno)\n",
    "nltk.download('stopwords')\n",
    "\n",
    "# Cargar el modelo de spaCy para español\n",
    "try:\n",
    "    nlp = spacy.load(\"es_core_news_sm\")\n",
    "except Exception as e:\n",
    "    print(\"Error al cargar el modelo 'es_core_news_sm'. Asegúrate de instalarlo con:\")\n",
    "    print(\"    python -m spacy download es_core_news_sm\")\n",
    "    raise e"
   ]
  },
  {
   "cell_type": "code",
   "execution_count": 6,
   "metadata": {
    "id": "z-06iI4-IInQ"
   },
   "outputs": [],
   "source": [
    "# Definir rutas de los datos\n",
    "base_dir = \"../\"\n",
    "processed_dir = os.path.join(base_dir, \"data/processed\")\n",
    "raw_dir_whatsapp = os.path.join(base_dir, \"data/raw/WhatsApp\")\n",
    "raw_dir_telegram = os.path.join(base_dir, \"data/raw/Telegram\")\n"
   ]
  }
 ],
 "metadata": {
  "colab": {
   "authorship_tag": "ABX9TyPAs8OhW0uxeWEuaMp1XB3P",
   "provenance": [],
   "toc_visible": true
  },
  "kernelspec": {
   "display_name": "venv",
   "language": "python",
   "name": "python3"
  },
  "language_info": {
   "codemirror_mode": {
    "name": "ipython",
    "version": 3
   },
   "file_extension": ".py",
   "mimetype": "text/x-python",
   "name": "python",
   "nbconvert_exporter": "python",
   "pygments_lexer": "ipython3",
   "version": "3.11.9"
  }
 },
 "nbformat": 4,
 "nbformat_minor": 0
}
